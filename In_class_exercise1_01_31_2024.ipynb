{
  "cells": [
    {
      "cell_type": "markdown",
      "metadata": {
        "id": "view-in-github",
        "colab_type": "text"
      },
      "source": [
        "<a href=\"https://colab.research.google.com/github/17251A0404/Abhigna_INFO5731_Spring2024/blob/main/In_class_exercise1_01_31_2024.ipynb\" target=\"_parent\"><img src=\"https://colab.research.google.com/assets/colab-badge.svg\" alt=\"Open In Colab\"/></a>"
      ]
    },
    {
      "cell_type": "markdown",
      "metadata": {
        "id": "DymRJbxDBCnf"
      },
      "source": [
        "# **This first In-class-exercise cover a variety of fundamental concepts in Python and are designed to help individuals improve their coding skills and problem-solving abilities.**\n",
        "\n",
        "The submission is due on 01/31/2024 11:59 PM. This submission is worth 40 points in total.\n"
      ]
    },
    {
      "cell_type": "markdown",
      "source": [
        "(1) Write a Python program that  prompts the user to input the length and width of a rectangle, and then calculates and displays the area of the rectangle."
      ],
      "metadata": {
        "id": "FBKvD6O_TY6e"
      }
    },
    {
      "cell_type": "code",
      "source": [
        "length = float(input(\"Enter the length of the rectangle: \"))\n",
        "width = float(input(\"Enter the width of the rectangle: \"))\n",
        "area = length * width  #area of the rectangle\n",
        "# Display the result\n",
        "print(\"The area of the rectangle with length  and width is:\", area)"
      ],
      "metadata": {
        "id": "cikVKDXdTbzE",
        "colab": {
          "base_uri": "https://localhost:8080/"
        },
        "outputId": "1615bd86-debe-4ecd-b8ae-ec8037e0a7f3"
      },
      "execution_count": 6,
      "outputs": [
        {
          "output_type": "stream",
          "name": "stdout",
          "text": [
            "Enter the length of the rectangle: 3 \n",
            "Enter the width of the rectangle: 5\n",
            "The area of the rectangle with length  and width is: 15.0\n"
          ]
        }
      ]
    },
    {
      "cell_type": "markdown",
      "source": [
        "(2) Create a Python program that interactively takes two numerical inputs from the user and swaps their values without utilizing an extra variable."
      ],
      "metadata": {
        "id": "E9RqrlwdTfvl"
      }
    },
    {
      "cell_type": "code",
      "source": [
        "# write your answer here\n",
        "n1 = float(input(\"Enter the first num: \"))\n",
        "n2 = float(input(\"Enter the second num: \"))\n",
        "\n",
        "# Print the values before swapping\n",
        "print(\"Before swapping n1:\", n1)\n",
        "print(\"Before swapping n1:\", n2)\n",
        "\n",
        "# Swap the values\n",
        "n1, n2 = n2, n1\n",
        "\n",
        "# Print the values after swapping\n",
        "print(\"After swapping n1:\", n1)\n",
        "print(\"After swapping n1:\", n2)"
      ],
      "metadata": {
        "id": "4XvRknixTh1g",
        "colab": {
          "base_uri": "https://localhost:8080/"
        },
        "outputId": "6074921b-0ba2-4c7f-f977-481e9ff977a2"
      },
      "execution_count": 7,
      "outputs": [
        {
          "output_type": "stream",
          "name": "stdout",
          "text": [
            "Enter the first num: 3\n",
            "Enter the second num: 7\n",
            "Before swapping n1: 3.0\n",
            "Before swapping n1: 7.0\n",
            "After swapping n1: 7.0\n",
            "After swapping n1: 3.0\n"
          ]
        }
      ]
    },
    {
      "cell_type": "markdown",
      "metadata": {
        "id": "03jb4GZsBkBS"
      },
      "source": [
        "(3) Write a Python script to determine and print the length of a user-input string."
      ]
    },
    {
      "cell_type": "code",
      "execution_count": 8,
      "metadata": {
        "id": "YaGLbSHHB8Ej",
        "colab": {
          "base_uri": "https://localhost:8080/"
        },
        "outputId": "9abab607-e7ba-4dcd-b75e-eabdac9362d9"
      },
      "outputs": [
        {
          "output_type": "stream",
          "name": "stdout",
          "text": [
            "enter a string: pragna raj\n",
            "the length of user input string is:10\n"
          ]
        }
      ],
      "source": [
        "# write your answer here\n",
        "u_i_s = input(\"enter a string: \")\n",
        "length_of_string = len(u_i_s)\n",
        "print(\"the length of user input string is:\" +str(length_of_string))\n"
      ]
    },
    {
      "cell_type": "markdown",
      "metadata": {
        "id": "jJDe71iLB616"
      },
      "source": [
        "(4) Construct a Python program that counts and displays the occurrences of each character in a given string.\n",
        "\n",
        "Sample String: 'openai.ai',\n",
        "\n",
        "Expected Result: {'a': 2, 'i': 2, '.': 1, 'o': 1, 'p': 1, 'e': 1, 'n': 1}"
      ]
    },
    {
      "cell_type": "code",
      "execution_count": 9,
      "metadata": {
        "id": "MtKskTzbCLaU",
        "colab": {
          "base_uri": "https://localhost:8080/"
        },
        "outputId": "7a884d7b-e74b-4cc0-d3b7-d62e29e6fc55"
      },
      "outputs": [
        {
          "output_type": "stream",
          "name": "stdout",
          "text": [
            "Enter a string: PragnarajDara\n",
            "Occurrences of each character in the input string:\n",
            "'P': 1\n",
            "'r': 3\n",
            "'a': 5\n",
            "'g': 1\n",
            "'n': 1\n",
            "'j': 1\n",
            "'D': 1\n"
          ]
        }
      ],
      "source": [
        "# write your answer here\n",
        "def count_char_(input_string):\n",
        "    char_count_ = {}\n",
        "    for char in input_string:\n",
        "        char_count_[char] = char_count_.get(char, 0) + 1\n",
        "\n",
        "    return char_count_\n",
        "\n",
        "user_input = input(\"Enter a string: \")\n",
        "\n",
        "result = count_char_(user_input)\n",
        "\n",
        "print(\"Occurrences of each character in the input string:\")\n",
        "for char, count in result.items():\n",
        "    print(f\"'{char}': {count}\")\n"
      ]
    },
    {
      "cell_type": "markdown",
      "metadata": {
        "id": "55W9AMdXCSpV"
      },
      "source": [
        "(5) Design a Python code to calculate the sum of all elements in a user-provided list."
      ]
    },
    {
      "cell_type": "code",
      "execution_count": 10,
      "metadata": {
        "id": "I57NXsauCec2",
        "colab": {
          "base_uri": "https://localhost:8080/"
        },
        "outputId": "d9c07514-6cab-4af7-a511-a04bd07b52e7"
      },
      "outputs": [
        {
          "output_type": "stream",
          "name": "stdout",
          "text": [
            "Enter a list of numbers separated by spaces: 2 4 8 9 5\n",
            "The sum of the elements in the list is: 28\n"
          ]
        }
      ],
      "source": [
        "# write your answer here\n",
        "# write your answer here\n",
        "def sum_(input_list):\n",
        "    total_ = sum(input_list)\n",
        "    return total_\n",
        "# Get user input for the list of numbers\n",
        "user_input = input(\"Enter a list of numbers separated by spaces: \")\n",
        "# Convert the user input into a list of integers\n",
        "user_list = [int(num) for num in user_input.split()]\n",
        "# Call the function to calculate the sum\n",
        "result_sum = sum_(user_list)\n",
        "print(\"The sum of the elements in the list is:\",  result_sum)"
      ]
    },
    {
      "cell_type": "markdown",
      "metadata": {
        "id": "4ulBZ6yhCi9F"
      },
      "source": [
        "(6) Write a Python program that modifies a given string by replacing all occurrences of its first character with '$', excluding the first character itself.\n",
        "\n",
        "\n",
        "Sample String : 'restart‘,\n",
        "\n",
        "Expected Result : 'resta\\$t'"
      ]
    },
    {
      "cell_type": "code",
      "execution_count": 4,
      "metadata": {
        "id": "Fj0XhwbBCw2o",
        "colab": {
          "base_uri": "https://localhost:8080/"
        },
        "outputId": "800205db-7d64-4b85-ac5b-817f918766cf"
      },
      "outputs": [
        {
          "output_type": "stream",
          "name": "stdout",
          "text": [
            "Enter a string: LOVEYOUALL\n",
            "The modified string is: LOVEYOUA$$\n"
          ]
        }
      ],
      "source": [
        "# write your answer here\n",
        "def modify_str(input_str):\n",
        "    if len(input_str) < 2:\n",
        "        return input_str\n",
        "\n",
        "    first_char = input_str[0]\n",
        "    modified_str = first_char + input_str[1:].replace(first_char, '$')\n",
        "    return modified_str\n",
        "\n",
        "user_input = input(\"Enter a string: \")\n",
        "\n",
        "result_str = modify_str(user_input)\n",
        "\n",
        "print(\"The modified string is:\", result_str)"
      ]
    },
    {
      "cell_type": "markdown",
      "source": [
        "(7) Write a Python program using a while loop to compute the factorial of a user-supplied number."
      ],
      "metadata": {
        "id": "qVXA3q7ET5JI"
      }
    },
    {
      "cell_type": "code",
      "source": [
        "def cal_fact(numb):\n",
        "    fact = 1\n",
        "    while numb > 1:\n",
        "        fact *= numb\n",
        "        numb -= 1\n",
        "    return fact\n",
        "\n",
        "# Get user input for the number\n",
        "user_numb = int(input(\"Enter a number: \"))\n",
        "\n",
        "# Call the function to calculate the factorial\n",
        "result_fact = cal_fact(user_numb)\n",
        "\n",
        "# Display the result\n",
        "print(\"The factorial of user_numb is:\", result_fact)"
      ],
      "metadata": {
        "id": "Lbt7R6UkT7BA",
        "colab": {
          "base_uri": "https://localhost:8080/"
        },
        "outputId": "8b233d6b-c9aa-41cd-9a47-235cbba7506b"
      },
      "execution_count": 5,
      "outputs": [
        {
          "output_type": "stream",
          "name": "stdout",
          "text": [
            "Enter a number: 5\n",
            "The factorial of user_numb is: 120\n"
          ]
        }
      ]
    },
    {
      "cell_type": "markdown",
      "source": [
        "(8) Create a program that accepts a list of numbers as input and outputs a new list containing only the even numbers."
      ],
      "metadata": {
        "id": "6YfbzXMNT--R"
      }
    },
    {
      "cell_type": "code",
      "source": [
        "# write your answer here\n",
        "def even_numb(input_list):\n",
        "    even_numb = [num for num in input_list if num % 2 == 0]\n",
        "    return even_numb\n",
        "user_input = input(\"Enter a list of numbers separated by spaces: \")\n",
        "user_numb = [int(num) for num in user_input.split()]\n",
        "result_even_numb = even_numb(user_numb)\n",
        "print(\"The list of even numbers is:\", result_even_numb)"
      ],
      "metadata": {
        "id": "54q7wMQPUAKu",
        "colab": {
          "base_uri": "https://localhost:8080/"
        },
        "outputId": "f347745d-21e9-4454-de33-212336913f9b"
      },
      "execution_count": 1,
      "outputs": [
        {
          "output_type": "stream",
          "name": "stdout",
          "text": [
            "Enter a list of numbers separated by spaces: 1 2 8 4 3 \n",
            "The list of even numbers is: [2, 8, 4]\n"
          ]
        }
      ]
    },
    {
      "cell_type": "markdown",
      "metadata": {
        "id": "_bIP7s1MCzue"
      },
      "source": [
        "\n",
        "(9) Design a Python function to check if a number is prime.\n"
      ]
    },
    {
      "cell_type": "code",
      "execution_count": 11,
      "metadata": {
        "id": "w79QilHXD3Mg",
        "colab": {
          "base_uri": "https://localhost:8080/"
        },
        "outputId": "e9a86e73-b2be-42e5-b5d6-2b190714734d"
      },
      "outputs": [
        {
          "output_type": "stream",
          "name": "stdout",
          "text": [
            "Enter a number to check if it's prime: 5\n",
            "5 :is a prime number\n"
          ]
        }
      ],
      "source": [
        "# write your answer here\n",
        "def prime_(numb):\n",
        "    if numb < 2:\n",
        "        return False\n",
        "    for i in range(2, int(numb**0.5) + 1):\n",
        "        if numb % i == 0:\n",
        "            return False\n",
        "    return True\n",
        "\n",
        "user_numb = int(input(\"Enter a number to check if it's prime: \"))\n",
        "\n",
        "result_prime = prime_(user_numb)\n",
        "if result_prime:\n",
        "    print(user_numb ,\":is a prime number\")\n",
        "else:\n",
        "    print(user_numb ,\":is not a prime number\")"
      ]
    },
    {
      "cell_type": "markdown",
      "metadata": {
        "id": "xCa2bK9aD4Q3"
      },
      "source": [
        "(10) Write a Python program to concatenate following dictionaries to create a new one.\n",
        "\n",
        "Sample Dictionary : dic1={1:10, 2:20}, dic2={3:30, 4:40}, dic3={5:50,6:60},\n",
        "\n",
        "Expected Result : {1: 10, 2: 20, 3: 30, 4: 40, 5: 50, 6: 60}\n"
      ]
    },
    {
      "cell_type": "code",
      "execution_count": 12,
      "metadata": {
        "id": "_z4aLqAbEET1",
        "colab": {
          "base_uri": "https://localhost:8080/"
        },
        "outputId": "78b13f5d-618f-4225-80a4-335a31d87891"
      },
      "outputs": [
        {
          "output_type": "stream",
          "name": "stdout",
          "text": [
            "Concatenated Dictionary: {'1': 10, '2': 20, '3': 30, '4': 40, '5': 50, '6': 60}\n"
          ]
        }
      ],
      "source": [
        "# write your answer here\n",
        "def concat_dict(dict1, dict2, dict3):\n",
        "    concatenated_dict = {}\n",
        "    concatenated_dict.update(dict1)\n",
        "    concatenated_dict.update(dict2)\n",
        "    concatenated_dict.update(dict3)\n",
        "    return concatenated_dict\n",
        "\n",
        "# Sample dictionaries\n",
        "dict1 = {'1': 10, '2': 20}\n",
        "dict2 = {'3': 30, '4': 40}\n",
        "dict3 = {'5': 50, '6': 60}\n",
        "\n",
        "result_dict = concat_dict(dict1, dict2, dict3)\n",
        "print(\"Concatenated Dictionary:\", result_dict)\n",
        "\n"
      ]
    },
    {
      "cell_type": "markdown",
      "source": [
        "(11) Design a Python function that takes a tuple of integers as input and returns the largest and smallest elements."
      ],
      "metadata": {
        "id": "bkyZ2xSZUOst"
      }
    },
    {
      "cell_type": "code",
      "source": [
        "# write your answer here\n",
        "def l_and_s(input_tup):\n",
        "    if not input_tup:\n",
        "        return None, None\n",
        "    largest = smallest = input_tup[0]\n",
        "\n",
        "    for num in input_tup:\n",
        "        if num > largest:\n",
        "            largest = num\n",
        "        elif num < smallest:\n",
        "            smallest = num\n",
        "\n",
        "    return largest, smallest\n",
        "sample_tuple = (4, 5, 7, 2, 8)\n",
        "largest, smallest = l_and_s(sample_tuple)\n",
        "print(\"Largest number:\", largest)\n",
        "print(\"Smallest number:\", smallest)"
      ],
      "metadata": {
        "id": "3FdLRBKOUQEd",
        "colab": {
          "base_uri": "https://localhost:8080/"
        },
        "outputId": "e3b125fc-7a81-417b-aec3-5f94b7d4687d"
      },
      "execution_count": 13,
      "outputs": [
        {
          "output_type": "stream",
          "name": "stdout",
          "text": [
            "Largest number: 8\n",
            "Smallest number: 2\n"
          ]
        }
      ]
    },
    {
      "cell_type": "markdown",
      "source": [
        "(12) Write a Python program that counts the frequency of each character in a given string and stores it in a dictionary."
      ],
      "metadata": {
        "id": "O0TVi3gKUTpp"
      }
    },
    {
      "cell_type": "code",
      "source": [
        "# write your answer here\n",
        "def count_char_freq(input_str):\n",
        "    char_freq = {}\n",
        "\n",
        "    for char in input_str:\n",
        "        if char in char_freq:\n",
        "            char_freq[char] += 1\n",
        "        else:\n",
        "            char_freq[char] = 1\n",
        "\n",
        "    return char_freq\n",
        "user_input = input(\"Enter a string: \")\n",
        "result_freq = count_char_freq(user_input)\n",
        "print(\"Character Frequency:\")\n",
        "for char, frequency in result_freq.items():\n",
        "    print(char , frequency)"
      ],
      "metadata": {
        "id": "lAtfSfZXUU-h",
        "colab": {
          "base_uri": "https://localhost:8080/"
        },
        "outputId": "117df7d2-88c0-46f1-91d8-dd961fe8712d"
      },
      "execution_count": 14,
      "outputs": [
        {
          "output_type": "stream",
          "name": "stdout",
          "text": [
            "Enter a string: This is ABHIGNA RAJ\n",
            "Character Frequency:\n",
            "T 1\n",
            "h 1\n",
            "i 2\n",
            "s 2\n",
            "  3\n",
            "A 3\n",
            "B 1\n",
            "H 1\n",
            "I 1\n",
            "G 1\n",
            "N 1\n",
            "R 1\n",
            "J 1\n"
          ]
        }
      ]
    },
    {
      "cell_type": "markdown",
      "metadata": {
        "id": "0v48Vqa7FrQh"
      },
      "source": [
        "(13) Implement a Python script to identify duplicate elements in a provided array of integers. Return -1 if there are no duplicates."
      ]
    },
    {
      "cell_type": "code",
      "execution_count": 15,
      "metadata": {
        "id": "7WEmgq-DF2P1",
        "colab": {
          "base_uri": "https://localhost:8080/"
        },
        "outputId": "12061861-24b7-4afd-e937-194c35c6ccee"
      },
      "outputs": [
        {
          "output_type": "stream",
          "name": "stdout",
          "text": [
            "Enter an array of integers: 2 7 5 4 3 5 4\n",
            "Dup elements: [4, 5]\n"
          ]
        }
      ],
      "source": [
        "# write your answer here\n",
        "def find_dup(input_array):\n",
        "    seen = set()\n",
        "    dup = set()\n",
        "\n",
        "    for num in input_array:\n",
        "        if num in seen:\n",
        "            dup.add(num)\n",
        "        else:\n",
        "            seen.add(num)\n",
        "\n",
        "    if not dup:\n",
        "        return -1\n",
        "    else:\n",
        "        return list(dup)\n",
        "user_input = input(\"Enter an array of integers: \")\n",
        "user_array = [int(num) for num in user_input.split()]\n",
        "result_dup = find_dup(user_array)\n",
        "if result_dup == -1:\n",
        "    print(\"No dup found.\")\n",
        "else:\n",
        "    print(\"Dup elements:\", result_dup)"
      ]
    },
    {
      "cell_type": "markdown",
      "metadata": {
        "id": "vD5PYLMuGga_"
      },
      "source": [
        "(14) Write a Python script to find the common elements between two lists."
      ]
    },
    {
      "cell_type": "code",
      "execution_count": 16,
      "metadata": {
        "id": "t0D5kdJUGjjw",
        "colab": {
          "base_uri": "https://localhost:8080/"
        },
        "outputId": "14d10cad-8f40-4092-9ed2-6c0e51e02c79"
      },
      "outputs": [
        {
          "output_type": "stream",
          "name": "stdout",
          "text": [
            "Enter the first list of elements: 6 5 7 3 2\n",
            "Enter the second list of elements: 2 5 9 1 8\n",
            "Common elements: ['5', '2']\n"
          ]
        }
      ],
      "source": [
        "# write your answer here\n",
        "def find_common_ele(list1, list2):\n",
        "    common_ele = set(list1) & set(list2)\n",
        "    return list(common_ele)\n",
        "user_ip1 = input(\"Enter the first list of elements: \")\n",
        "list1 = user_ip1.split()\n",
        "user_ip2 = input(\"Enter the second list of elements: \")\n",
        "list2 = user_ip2.split()\n",
        "result_common_ele = find_common_ele(list1, list2)\n",
        "if not result_common_ele:\n",
        "    print(\"No common elements found.\")\n",
        "else:\n",
        "    print(\"Common elements:\", result_common_ele)\n"
      ]
    },
    {
      "cell_type": "markdown",
      "metadata": {
        "id": "uHkd-y5VhVWC"
      },
      "source": [
        "(15) Write a Python program to randomly divide the students in this class into six groups for term projects, each group should have at least 4 students but no more than 6 students (including 6).\n",
        "\n",
        "Here is the students list:\n",
        "\n",
        "student_list_spring_2024=[rb0846,\n",
        "ac1964,\n",
        "hc0612,\n",
        "md0912,\n",
        "ad1198,\n",
        "md0894,\n",
        "md0825,\n",
        "vg0598,\n",
        "vg0433,\n",
        "mh1068,\n",
        "yj0173,\n",
        "pk0553,\n",
        "tk0411,\n",
        "srk0204,\n",
        "sk2922,\n",
        "sk2936,\n",
        "mk1302,\n",
        "mk1317,\n",
        "tk0412,\n",
        "vk0656,\n",
        "sm2985,\n",
        "mm2372,\n",
        "un0045,\n",
        "an0892,\n",
        "sn0913,\n",
        "gp0252,\n",
        "ap1484,\n",
        "mr1765,\n",
        "sr1385,\n",
        "sr1335,\n",
        "hs0665,\n",
        "ms2060,\n",
        "gt0217,\n",
        "nt0385,\n",
        "tv0186,\n",
        "sv1394,\n",
        "sv1752,\n",
        "sv1555,\n",
        "sy0594\n",
        "]\n"
      ]
    },
    {
      "cell_type": "code",
      "execution_count": 22,
      "metadata": {
        "id": "3iGbmcOBhTwy",
        "colab": {
          "base_uri": "https://localhost:8080/"
        },
        "outputId": "adff608d-5b5f-4a6e-f2b8-13912e60e5fb"
      },
      "outputs": [
        {
          "output_type": "stream",
          "name": "stdout",
          "text": [
            "Group 1: sr1335, mk1317, sk2936, ms2060, gt0217, mh1068, pk0553\n",
            "Group 2: ad1198, sv1394, sy0594, ac1964, rb0846, hs0665, vk0656\n",
            "Group 3: yj0173, vg0598, sv1555, tk0412, mr1765, vg0433, gp0252\n",
            "Group 4: an0892, ap1484, sn0913, sm2985, mm2372, sv1752\n",
            "Group 5: tk0411, tv0186, nt0385, sk2922, md0894, md0912\n",
            "Group 6: srk0204, sr1385, hc0612, un0045, mk1302, md0825\n"
          ]
        }
      ],
      "source": [
        "# write your answer here\n",
        "import random\n",
        "\n",
        "def divide_students_into_groups(student_list):\n",
        "    random.shuffle(student_list)\n",
        "    groups = [[] for _ in range(6)]\n",
        "    for student in student_list:\n",
        "        min_group = min(groups, key=len)\n",
        "        if len(min_group) < 6:\n",
        "            min_group.append(student)\n",
        "        else:\n",
        "            next_min_group = min(groups, key=lambda x: len(x) + (6 if len(x) == 4 else 0))\n",
        "            next_min_group.append(student)\n",
        "\n",
        "    return groups\n",
        "student_list_spring_2024 = [\n",
        "    \"rb0846\", \"ac1964\", \"hc0612\", \"md0912\", \"ad1198\", \"md0894\", \"md0825\",\n",
        "    \"vg0598\", \"vg0433\", \"mh1068\", \"yj0173\", \"pk0553\", \"tk0411\", \"srk0204\",\n",
        "    \"sk2922\", \"sk2936\", \"mk1302\", \"mk1317\", \"tk0412\", \"vk0656\", \"sm2985\",\n",
        "    \"mm2372\", \"un0045\", \"an0892\", \"sn0913\", \"gp0252\", \"ap1484\", \"mr1765\",\n",
        "    \"sr1385\", \"sr1335\", \"hs0665\", \"ms2060\", \"gt0217\", \"nt0385\", \"tv0186\",\n",
        "    \"sv1394\", \"sv1752\", \"sv1555\", \"sy0594\"\n",
        "]\n",
        "result_groups = divide_students_into_groups(student_list_spring_2024)\n",
        "for i, group in enumerate(result_groups, 1):\n",
        "    print(f\"Group {i}: {', '.join(group)}\")\n"
      ]
    },
    {
      "cell_type": "markdown",
      "metadata": {
        "id": "fmZ9vX20Qs3d"
      },
      "source": [
        "(16) Create a program that takes a positive integer 'n' as input and prints the count of even numbers from 1 to 'n'. Optimize the loop using the break statement."
      ]
    },
    {
      "cell_type": "code",
      "execution_count": 20,
      "metadata": {
        "id": "W8Jw6sWMQs3d",
        "colab": {
          "base_uri": "https://localhost:8080/"
        },
        "outputId": "6cc5b1a8-560f-4bb8-b272-2588e1de1691"
      },
      "outputs": [
        {
          "output_type": "stream",
          "name": "stdout",
          "text": [
            "Enter a positive integer 'n': 6\n",
            "The count of even numbers from 1 to 6 is: 3\n"
          ]
        }
      ],
      "source": [
        "# write your answer here\n",
        "def count_even_num(n):\n",
        "    if n < 1:\n",
        "        print(\"enter a positive integer.\")\n",
        "        return\n",
        "\n",
        "    count = 0\n",
        "    for i in range(1, n + 1):\n",
        "        if i % 2 == 0:\n",
        "            count += 1\n",
        "        else:\n",
        "            pass\n",
        "\n",
        "    print(f\"The count of even numbers from 1 to {n} is: {count}\")\n",
        "\n",
        "try:\n",
        "    n = int(input(\"Enter a positive integer 'n': \"))\n",
        "    count_even_num(n)\n",
        "except ValueError:\n",
        "    print(\"Invalid input. Please enter a positive integer.\")\n"
      ]
    },
    {
      "cell_type": "markdown",
      "metadata": {
        "id": "hvq4APMhQs3d"
      },
      "source": [
        "(17) Develop a Python function called 'count_vowels' that takes a string as input and returns the count of vowels (both lowercase and uppercase) present in the string, ignoring spaces and non-alphabetic characters."
      ]
    },
    {
      "cell_type": "code",
      "execution_count": 17,
      "metadata": {
        "id": "ZnoxhSglQs3d",
        "colab": {
          "base_uri": "https://localhost:8080/"
        },
        "outputId": "832d4894-2594-4e70-f4a7-0bdeb0582668"
      },
      "outputs": [
        {
          "output_type": "stream",
          "name": "stdout",
          "text": [
            "Enter a str: pragnaraj\n",
            "Count of vowels in the string: 3\n"
          ]
        }
      ],
      "source": [
        "# write your answer here\n",
        "def count_vow(input_str):\n",
        "    vowels = \"aeiouAEIOU\"\n",
        "    count = 0\n",
        "    for char in input_str:\n",
        "        if char.isalpha() and char in vowels:\n",
        "            count += 1\n",
        "    return count\n",
        "user_input = input(\"Enter a str: \")\n",
        "result_ = count_vow(user_input)\n",
        "print(\"Count of vowels in the string:\", result_)\n",
        "\n"
      ]
    },
    {
      "cell_type": "markdown",
      "source": [
        "(18) Create a custom exception named ValueTooSmallError in Python. Write a program that takes user input for an age, and if the entered age is less than 18, raise the ValueTooSmallError with an appropriate error message."
      ],
      "metadata": {
        "id": "55FWoSJPVVM6"
      }
    },
    {
      "cell_type": "code",
      "source": [
        "# write your answer here\n",
        "class ValueTooSmallError(Exception):\n",
        "    def __init__(self, msg=\"Value is too small\"):\n",
        "        self.msg = msg\n",
        "        super().__init__(self.msg)\n",
        "\n",
        "def get_user_age():\n",
        "    try:\n",
        "        age = int(input(\"Enter your age: \"))\n",
        "        if age < 18:\n",
        "            raise ValueTooSmallError(\"Age must be 18 or older.\")\n",
        "        else:\n",
        "            print(f\"Your age is: {age}\")\n",
        "    except ValueError:\n",
        "        print(\"Invalid input. Please enter a valid integer.\")\n",
        "    except ValueTooSmallError as vts_error:\n",
        "        print(\"Error:\", vts_error)\n",
        "\n",
        "get_user_age()\n",
        "\n"
      ],
      "metadata": {
        "id": "hwtr1wZmVX5A",
        "colab": {
          "base_uri": "https://localhost:8080/"
        },
        "outputId": "b5330e5d-752c-41c5-fd58-54261fbe1b8b"
      },
      "execution_count": 18,
      "outputs": [
        {
          "output_type": "stream",
          "name": "stdout",
          "text": [
            "Enter your age: 15\n",
            "Error: Age must be 18 or older.\n"
          ]
        }
      ]
    },
    {
      "cell_type": "markdown",
      "source": [
        "(19) Develop a script that reverses a given string without using built-in reverse functions."
      ],
      "metadata": {
        "id": "Q9ecagcaVazW"
      }
    },
    {
      "cell_type": "code",
      "source": [
        "# write your answer here\n",
        "def reverse_str(input_str):\n",
        "    reversed_str = \"\"\n",
        "    for char in input_str[::-1]:\n",
        "        reversed_str += char\n",
        "    return reversed_str\n",
        "user_input = input(\"Enter a string: \")\n",
        "result = reverse_str(user_input)\n",
        "print(\"Reversed str:\", result)\n"
      ],
      "metadata": {
        "id": "gycgckoAVZjR",
        "colab": {
          "base_uri": "https://localhost:8080/"
        },
        "outputId": "7040ca68-84af-44ca-8167-e77f2155fa7c"
      },
      "execution_count": 19,
      "outputs": [
        {
          "output_type": "stream",
          "name": "stdout",
          "text": [
            "Enter a string: SWEETYFRUITY\n",
            "Reversed str: YTIURFYTEEWS\n"
          ]
        }
      ]
    },
    {
      "cell_type": "markdown",
      "source": [
        "(20) Implement a Python script to generate a random password of a specified length."
      ],
      "metadata": {
        "id": "ZFG6RibifMLu"
      }
    },
    {
      "cell_type": "code",
      "source": [
        "# write your answer here\n",
        "import random\n",
        "import string\n",
        "\n",
        "def generate_random_password(length):\n",
        "    if length <= 0:\n",
        "        print(\"Password length should be a positive integer.\")\n",
        "        return None\n",
        "\n",
        "    # Define characters to include in the password\n",
        "    characters = string.ascii_letters + string.digits + string.punctuation\n",
        "\n",
        "    # Generate random password\n",
        "    password = ''.join(random.choice(characters) for _ in range(length))\n",
        "\n",
        "    return password\n",
        "\n",
        "# Get user input for password length\n",
        "try:\n",
        "    password_length = int(input(\"Enter the desired password length: \"))\n",
        "    generated_password = generate_random_password(password_length)\n",
        "\n",
        "    if generated_password:\n",
        "        print(\"Generated Password:\", generated_password)\n",
        "except ValueError:\n",
        "    print(\"Invalid input. Please enter a positive integer for the password length.\")\n"
      ],
      "metadata": {
        "id": "BFVrkEi9fNiD",
        "colab": {
          "base_uri": "https://localhost:8080/"
        },
        "outputId": "0b6e4b8c-ea46-4a17-9992-8481538a9013"
      },
      "execution_count": 21,
      "outputs": [
        {
          "output_type": "stream",
          "name": "stdout",
          "text": [
            "Enter the desired password length: 8\n",
            "Generated Password: W_!\"h&Gp\n"
          ]
        }
      ]
    },
    {
      "cell_type": "code",
      "source": [],
      "metadata": {
        "id": "f_OC_cQ2C-OT"
      },
      "execution_count": null,
      "outputs": []
    },
    {
      "cell_type": "markdown",
      "source": [],
      "metadata": {
        "id": "aCOstmWtC9xZ"
      }
    },
    {
      "cell_type": "markdown",
      "source": [
        "# Try these questions:"
      ],
      "metadata": {
        "id": "6SmvS7nSfbj8"
      }
    },
    {
      "cell_type": "markdown",
      "source": [
        "(21) Define a base class called 'Vehicle' with attributes make and model. Create a derived class Car that inherits from Vehicle and has an additional attribute 'num_doors'. Demonstrate an example of creating an instance of the 'Car' class and accessing its attributes."
      ],
      "metadata": {
        "id": "cboAr5pEWUf5"
      }
    },
    {
      "cell_type": "code",
      "source": [
        "# write your answer here\n"
      ],
      "metadata": {
        "id": "phs9gciMWWAW"
      },
      "execution_count": null,
      "outputs": []
    },
    {
      "cell_type": "markdown",
      "source": [
        "(22) Create a class called 'Shape' with a method calculate_area(). Implement two derived classes 'Circle' and 'Rectangle' that inherit from Shape and override the calculate_area() method. Demonstrate polymorphism by creating instances of both derived classes and calling the calculate_area() method."
      ],
      "metadata": {
        "id": "J8HHefNtePwd"
      }
    },
    {
      "cell_type": "code",
      "source": [
        "# write your answer here"
      ],
      "metadata": {
        "id": "btnMmUZDeRhS"
      },
      "execution_count": null,
      "outputs": []
    },
    {
      "cell_type": "markdown",
      "source": [
        "(23) Write a Python program that prompts the user to enter two numbers and perform a division operation. Handle exceptions for both zero division and invalid input (non-numeric input). Display appropriate error messages for each type of exception and ensure the program does not crash due to these errors."
      ],
      "metadata": {
        "id": "z0oqEAlTeMUS"
      }
    },
    {
      "cell_type": "code",
      "source": [
        "# write your answer here"
      ],
      "metadata": {
        "id": "yjdc1zM1eMAs"
      },
      "execution_count": null,
      "outputs": []
    },
    {
      "cell_type": "markdown",
      "source": [
        "# Mandatory Question"
      ],
      "metadata": {
        "id": "sZOhks1dXWEe"
      }
    },
    {
      "cell_type": "markdown",
      "source": [
        "**Important:**\n",
        "Reflecting on the first three lectures and the exercises you've completed, please provide feedback on your learning experience. Share your thoughts on whether the material covered was clear, the exercises were helpful, and if you feel more confident in applying Python programming concepts. Additionally, mention any specific areas where you would like more clarification or topics you would like to explore further in future lectures. Your feedback is valuable in shaping the course for an effective learning journey."
      ],
      "metadata": {
        "id": "eqmHVEwaWhbV"
      }
    },
    {
      "cell_type": "markdown",
      "source": [
        "[link text](https://)Write your response here."
      ],
      "metadata": {
        "id": "HlpXOT9wXQAd"
      }
    },
    {
      "cell_type": "code",
      "source": [
        "Actually, Im  a beginner for learning python.so, i felt slightly difficult in completely this assignment. But still, I have a learned a lot."
      ],
      "metadata": {
        "id": "Dq2aOZU7XIke"
      },
      "execution_count": null,
      "outputs": []
    }
  ],
  "metadata": {
    "colab": {
      "provenance": [],
      "include_colab_link": true
    },
    "kernelspec": {
      "display_name": "Python 3 (ipykernel)",
      "language": "python",
      "name": "python3"
    },
    "language_info": {
      "codemirror_mode": {
        "name": "ipython",
        "version": 3
      },
      "file_extension": ".py",
      "mimetype": "text/x-python",
      "name": "python",
      "nbconvert_exporter": "python",
      "pygments_lexer": "ipython3",
      "version": "3.9.12"
    }
  },
  "nbformat": 4,
  "nbformat_minor": 0
}